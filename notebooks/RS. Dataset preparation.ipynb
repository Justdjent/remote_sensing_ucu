{
 "cells": [
  {
   "cell_type": "code",
   "execution_count": null,
   "metadata": {},
   "outputs": [],
   "source": [
    "import os\n",
    "import cv2\n",
    "import rasterio\n",
    "from rasterio.plot import reshape_as_image\n",
    "import rasterio.mask\n",
    "from rasterio.features import rasterize\n",
    "import pandas as pd\n",
    "import geopandas as gpd\n",
    "from shapely.geometry import mapping, Point, Polygon\n",
    "from shapely.ops import cascaded_union\n",
    "import numpy as np\n",
    "import matplotlib.pyplot as plt\n",
    "from tqdm import tqdm\n",
    "from geopandas import GeoSeries\n",
    "from shapely.geometry import Polygon\n",
    "from rasterio.windows import Window\n",
    "from rasterio.plot import reshape_as_image\n",
    "\n",
    "\n",
    "%matplotlib inline"
   ]
  },
  {
   "cell_type": "markdown",
   "metadata": {},
   "source": [
    "Reading Raster with rasterio"
   ]
  },
  {
   "cell_type": "code",
   "execution_count": null,
   "metadata": {},
   "outputs": [],
   "source": [
    "PROJECT_DIR = '/home/ymi/data/ucu_data'\n",
    "\n",
    "RASTER_PATH = os.path.join(PROJECT_DIR, 'T34JEP_20170101T082332/T34JEP_20170101T082332_TCI.jp2')\n",
    "TRAIN_POLYGONS_PATH = os.path.join(PROJECT_DIR, 'train-20220726T194123Z-001/train/train.shp')\n",
    "TEST_POLYGONS_PATH = os.path.join(PROJECT_DIR, 'train-20220726T194123Z-001/test/test.shp')\n",
    "TRAIN_POLYGONS_CONVERTED = os.path.join(PROJECT_DIR, 'train-20220726T194123Z-001/train/train.geojson')\n",
    "RASTER_MASK_PATH = os.path.join(PROJECT_DIR, 'mask.jp2')\n",
    "DROP_CSV_PATH = os.path.join(PROJECT_DIR, 'drop.csv')\n",
    "FRAGMENT_STORAGE = os.path.join(PROJECT_DIR, 'split')\n",
    "CROPPED_IMAGES = os.path.join(PROJECT_DIR, 'images_cropped_rgb')"
   ]
  },
  {
   "cell_type": "code",
   "execution_count": null,
   "metadata": {},
   "outputs": [],
   "source": [
    "# read converted dataframe with geopandas TRAIN_POLYGONS_CONVERTED\n"
   ]
  },
  {
   "cell_type": "code",
   "execution_count": null,
   "metadata": {
    "scrolled": true
   },
   "outputs": [],
   "source": [
    "# create tiles of each field"
   ]
  },
  {
   "cell_type": "code",
   "execution_count": null,
   "metadata": {},
   "outputs": [],
   "source": [
    "# rasterize works with polygons that are in image coordinate system\n",
    "\n",
    "def poly_from_utm(polygon, transform):\n",
    "    poly_pts = []\n",
    "    \n",
    "    # make a polygon from multipolygon\n",
    "    poly = cascaded_union(polygon)\n",
    "    for i in np.array(poly.exterior.coords):\n",
    "        \n",
    "        # transfrom polygon to image crs, using raster meta\n",
    "        poly_pts.append(~transform * tuple(i))\n",
    "        \n",
    "    # make a shapely Polygon object\n",
    "    new_poly = Polygon(poly_pts)\n",
    "    return new_poly"
   ]
  },
  {
   "cell_type": "code",
   "execution_count": null,
   "metadata": {},
   "outputs": [],
   "source": [
    "\n",
    "# creating binary mask for field/not_filed segmentation.\n",
    "\n",
    "poly_shp = []\n",
    "\n",
    "for num, row in train_df.iterrows():\n",
    "    # check geom type and apply function\n",
    "    # code here\n",
    "\n",
    "\n",
    "# rasterize mask mask\n",
    "\n",
    "\n"
   ]
  },
  {
   "cell_type": "code",
   "execution_count": null,
   "metadata": {
    "scrolled": true
   },
   "outputs": [],
   "source": [
    "# plotting the mask\n"
   ]
  },
  {
   "cell_type": "code",
   "execution_count": null,
   "metadata": {},
   "outputs": [],
   "source": [
    "# save mask to the disk"
   ]
  },
  {
   "cell_type": "code",
   "execution_count": null,
   "metadata": {},
   "outputs": [],
   "source": [
    "# read from disk and plot"
   ]
  },
  {
   "cell_type": "code",
   "execution_count": null,
   "metadata": {},
   "outputs": [],
   "source": [
    "def split_image(image_path, save_path, width, height):\n",
    "    \n",
    "    img_names = []\n",
    "    \n",
    "    if not os.path.exists(save_path):\n",
    "        os.makedirs(save_path, exist_ok=True)\n",
    "        print('Data directory created.')\n",
    "\n",
    "    os.makedirs(f'{save_path}/images', exist_ok=True)\n",
    "    with rasterio.open(image_path) as src:\n",
    "        for j in tqdm(range(0, src.height // height)):\n",
    "            for i in range(0, src.width // width):\n",
    "                raster_window = src.read(\n",
    "                    window=Window(i * width, j * height, width, height)\n",
    "                )\n",
    "                image_array = reshape_as_image(raster_window)[:, :, :3]\n",
    "                if np.count_nonzero(image_array) > image_array.size * 0.9:\n",
    "                    filename_w_ext = os.path.basename(image_path)\n",
    "                    filename, _ = os.path.splitext(filename_w_ext)\n",
    "                    image_format = 'png'\n",
    "                    piece_name = f'{filename}_{j}_{i}.{image_format}'\n",
    "\n",
    "                    image_array = reshape_as_image(raster_window)\n",
    "                    img_name = f'{save_path}/images/{piece_name}'\n",
    "                    img_names.append(img_name)\n",
    "                    cv2.imwrite(img_name, image_array)\n",
    "\n",
    "    return img_names"
   ]
  },
  {
   "cell_type": "code",
   "execution_count": null,
   "metadata": {},
   "outputs": [],
   "source": [
    "#split mask\n",
    "def split_mask(image_path, save_path, width, height):\n",
    "    \n",
    "    mask_names = []\n",
    "    drop_list = []\n",
    "    \n",
    "    if not os.path.exists(save_path):\n",
    "        os.makedirs(save_path, exist_ok=True)\n",
    "        print('Data directory created.')\n",
    "\n",
    "    os.makedirs(f'{save_path}/masks', exist_ok=True)\n",
    "    with rasterio.open(image_path) as src:\n",
    "        for j in tqdm(range(0, src.height // height)):\n",
    "            for i in range(0, src.width // width):\n",
    "                raster_window = src.read(window=Window(i * width, j * height, width, height))\n",
    "                image_array = reshape_as_image(raster_window)\n",
    "                filename_w_ext = os.path.basename(image_path)\n",
    "                filename, _ = os.path.splitext(filename_w_ext)\n",
    "                piece_name = f'{filename}_{j}_{i}.png'\n",
    "\n",
    "                image_array = reshape_as_image(raster_window)\n",
    "                # add the code here to subsample 10% of images for train and add it to drop_list\n",
    "\n",
    "                mask_name = f'{save_path}/masks/{piece_name}'\n",
    "                mask_names.append(mask_name)\n",
    "                image_array[image_array>1] = 1\n",
    "                cv2.imwrite(mask_name, image_array)\n",
    "\n",
    "    return mask_names, drop_list"
   ]
  },
  {
   "cell_type": "code",
   "execution_count": null,
   "metadata": {},
   "outputs": [],
   "source": [
    "image_names = split_image(RASTER_PATH, FRAGMENT_STORAGE, 256, 256)"
   ]
  },
  {
   "cell_type": "code",
   "execution_count": null,
   "metadata": {},
   "outputs": [],
   "source": [
    "mask_names, drop_list = split_mask(RASTER_MASK_PATH, FRAGMENT_STORAGE, 256, 256)"
   ]
  },
  {
   "cell_type": "code",
   "execution_count": null,
   "metadata": {},
   "outputs": [],
   "source": [
    "drop_list_df = pd.DataFrame()\n",
    "drop_list_df['images_to_drop'] = drop_list\n",
    "drop_list_df.to_csv(DROP_CSV_PATH, index=False)"
   ]
  },
  {
   "cell_type": "code",
   "execution_count": null,
   "metadata": {},
   "outputs": [],
   "source": [
    "train_df"
   ]
  },
  {
   "cell_type": "code",
   "execution_count": null,
   "metadata": {},
   "outputs": [],
   "source": [
    "# create by removing masks \n",
    "used_image_names = \n",
    "used_masks = [mask_names[i] for i in range(0, len(mask_names)) if mask_names[i] not in drop_list]"
   ]
  },
  {
   "cell_type": "code",
   "execution_count": null,
   "metadata": {},
   "outputs": [],
   "source": [
    "used_image_names"
   ]
  },
  {
   "cell_type": "code",
   "execution_count": null,
   "metadata": {},
   "outputs": [],
   "source": [
    "len(used_image_names)"
   ]
  },
  {
   "cell_type": "code",
   "execution_count": null,
   "metadata": {},
   "outputs": [],
   "source": [
    "# read and plot tile\n",
    "\n",
    "f, axarr = plt.subplots(1, 2)\n",
    "f.set_size_inches(15, 15)\n",
    "axarr[0].imshow(raster_image)\n",
    "axarr[1].imshow(mask_image, 'gray')"
   ]
  }
 ],
 "metadata": {
  "kernelspec": {
   "display_name": "Python 3",
   "language": "python",
   "name": "python3"
  },
  "language_info": {
   "codemirror_mode": {
    "name": "ipython",
    "version": 3
   },
   "file_extension": ".py",
   "mimetype": "text/x-python",
   "name": "python",
   "nbconvert_exporter": "python",
   "pygments_lexer": "ipython3",
   "version": "3.8.10"
  }
 },
 "nbformat": 4,
 "nbformat_minor": 2
}
